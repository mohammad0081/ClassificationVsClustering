{
 "cells": [
  {
   "metadata": {},
   "cell_type": "markdown",
   "source": [
    "# Classification with multiple Approaches\n",
    "* Mohammad Hassan Heydari"
   ],
   "id": "df4c882005169952"
  },
  {
   "metadata": {},
   "cell_type": "markdown",
   "source": "## 1. Classification with Neural Networks",
   "id": "bb48ef6be532de11"
  },
  {
   "metadata": {},
   "cell_type": "markdown",
   "source": "**Importing necessary libraries and checking platform**",
   "id": "d41aa0b60724b779"
  },
  {
   "cell_type": "code",
   "id": "initial_id",
   "metadata": {
    "collapsed": true,
    "ExecuteTime": {
     "end_time": "2024-06-27T18:55:45.747502Z",
     "start_time": "2024-06-27T18:55:45.422813Z"
    }
   },
   "source": [
    "import jax.numpy as jnp\n",
    "from jax import grad, jit, vmap\n",
    "from jax import random\n",
    "import jax\n",
    "import pandas as pd"
   ],
   "outputs": [],
   "execution_count": 14
  },
  {
   "metadata": {
    "ExecuteTime": {
     "end_time": "2024-06-27T18:49:32.410015Z",
     "start_time": "2024-06-27T18:49:32.405529Z"
    }
   },
   "cell_type": "code",
   "source": [
    "device = jax.devices()[0]\n",
    "print(f'Training platform : {device.platform}')\n",
    "print(f'Device Name : {device.device_kind}')\n"
   ],
   "id": "370ec6a66000f9dc",
   "outputs": [
    {
     "name": "stdout",
     "output_type": "stream",
     "text": [
      "Training platform : gpu\n",
      "Device Name : NVIDIA GeForce MX450\n"
     ]
    }
   ],
   "execution_count": 10
  },
  {
   "metadata": {},
   "cell_type": "markdown",
   "source": "**Loading data**",
   "id": "a5dc78ef7b73eb2c"
  },
  {
   "metadata": {
    "ExecuteTime": {
     "end_time": "2024-06-27T19:11:03.482363Z",
     "start_time": "2024-06-27T19:11:03.457964Z"
    }
   },
   "cell_type": "code",
   "source": [
    "leaves_csv = pd.read_csv('Data/leaves.csv')\n",
    "\n",
    "leaves_csv = leaves_csv.sample(frac=1).reset_index(drop=True)\n",
    "\n",
    "leaves_np = jnp.asarray(leaves_csv)\n",
    "print(f'shape of leaves: {leaves_np.shape}')"
   ],
   "id": "c921b0ccc6ed52a",
   "outputs": [
    {
     "name": "stdout",
     "output_type": "stream",
     "text": [
      "shape of leaves: (339, 16)\n"
     ]
    }
   ],
   "execution_count": 19
  },
  {
   "metadata": {
    "ExecuteTime": {
     "end_time": "2024-06-27T19:09:22.588243Z",
     "start_time": "2024-06-27T19:09:22.504020Z"
    }
   },
   "cell_type": "code",
   "source": [
    "# first column is targets, other columns are features, so :\n",
    "targets = leaves_np[:, 0]\n",
    "features = leaves_np[:, 1:]\n",
    "print(f'shape of features: {features.shape}')\n",
    "print(f'shape of targets: {targets.shape}')\n",
    "print(f'first 10 elements of targets array: {targets[0:10]}')"
   ],
   "id": "af2aa1f82bb5b4d5",
   "outputs": [
    {
     "name": "stdout",
     "output_type": "stream",
     "text": [
      "shape of features: (339, 15)\n",
      "shape of targets: (339,)\n",
      "first 10 elements of targets array: [1. 1. 1. 1. 1. 1. 1. 1. 1. 1.]\n"
     ]
    }
   ],
   "execution_count": 18
  },
  {
   "metadata": {
    "ExecuteTime": {
     "end_time": "2024-06-27T18:52:54.335152Z",
     "start_time": "2024-06-27T18:52:54.329116Z"
    }
   },
   "cell_type": "code",
   "source": [
    "def random_layer_params(m, n, key, scale=1e-2):\n",
    "  w_key, b_key = random.split(key)\n",
    "  return scale * random.normal(w_key, (n, m)), scale * random.normal(b_key, (n,))\n",
    "\n",
    "# Initialize all layers for a fully-connected neural network with sizes \"sizes\"\n",
    "def init_network_params(sizes, key):\n",
    "  keys = random.split(key, len(sizes))\n",
    "  return [random_layer_params(m, n, k) for m, n, k in zip(sizes[:-1], sizes[1:], keys)]"
   ],
   "id": "889ac7f1ef958985",
   "outputs": [],
   "execution_count": 11
  },
  {
   "metadata": {},
   "cell_type": "code",
   "outputs": [],
   "execution_count": null,
   "source": "",
   "id": "e24666e8607398e6"
  }
 ],
 "metadata": {
  "kernelspec": {
   "display_name": "Python 3",
   "language": "python",
   "name": "python3"
  },
  "language_info": {
   "codemirror_mode": {
    "name": "ipython",
    "version": 2
   },
   "file_extension": ".py",
   "mimetype": "text/x-python",
   "name": "python",
   "nbconvert_exporter": "python",
   "pygments_lexer": "ipython2",
   "version": "2.7.6"
  }
 },
 "nbformat": 4,
 "nbformat_minor": 5
}
