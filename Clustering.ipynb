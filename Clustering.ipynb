{
 "cells": [
  {
   "metadata": {},
   "cell_type": "markdown",
   "source": "# Clustering Leaves based on their Features",
   "id": "867923313a9bf538"
  },
  {
   "cell_type": "code",
   "id": "initial_id",
   "metadata": {
    "collapsed": true,
    "ExecuteTime": {
     "end_time": "2024-06-28T14:27:14.621745Z",
     "start_time": "2024-06-28T14:27:14.323154Z"
    }
   },
   "source": [
    "import numpy as np\n",
    "import pandas as pd"
   ],
   "outputs": [],
   "execution_count": 2
  },
  {
   "metadata": {
    "ExecuteTime": {
     "end_time": "2024-06-28T14:27:14.680418Z",
     "start_time": "2024-06-28T14:27:14.669344Z"
    }
   },
   "cell_type": "code",
   "source": [
    "leaves_csv = pd.read_csv('Data/leaves.csv')\n",
    "\n",
    "leaves_np = np.asarray(leaves_csv)"
   ],
   "id": "168c9f6686cf04fd",
   "outputs": [],
   "execution_count": 3
  },
  {
   "metadata": {
    "ExecuteTime": {
     "end_time": "2024-06-28T14:27:15.147488Z",
     "start_time": "2024-06-28T14:27:15.141670Z"
    }
   },
   "cell_type": "code",
   "source": [
    "# first column is targets, other columns are features, so :\n",
    "targets = leaves_np[:, 0].astype(dtype=np.int32)\n",
    "features = leaves_np[:, 2:]\n",
    "print(f'shape of features: {features.shape}')\n",
    "print(f'shape of targets: {targets.shape}')"
   ],
   "id": "b2b45c278649bbd0",
   "outputs": [
    {
     "name": "stdout",
     "output_type": "stream",
     "text": [
      "shape of features: (339, 14)\n",
      "shape of targets: (339,)\n"
     ]
    }
   ],
   "execution_count": 4
  },
  {
   "metadata": {},
   "cell_type": "markdown",
   "source": "",
   "id": "736ac48f7df18519"
  },
  {
   "metadata": {
    "ExecuteTime": {
     "end_time": "2024-06-28T14:44:39.403426Z",
     "start_time": "2024-06-28T14:44:39.397006Z"
    }
   },
   "cell_type": "code",
   "source": [
    "t = [1, 2, 3, 4, 5, 6, 7, 8, 9, 10,11, 12, 13, 14, 15] + [22, 23, 24, 25, 26, 27, 28, 29, 30, 31, 32, 33, 34, 35, 36]\n",
    "dataset_dict = {i : [] for i in t}\n",
    "\n",
    "for i in range(len(targets)):\n",
    "\n",
    "    dataset_dict[targets[i]].append(features[i])\n"
   ],
   "id": "440fa77afb80780b",
   "outputs": [],
   "execution_count": 19
  },
  {
   "metadata": {},
   "cell_type": "markdown",
   "source": "## 1. K-Means Model",
   "id": "b8f8467961cb361d"
  },
  {
   "metadata": {
    "ExecuteTime": {
     "end_time": "2024-06-28T14:43:50.278503Z",
     "start_time": "2024-06-28T14:43:49.906522Z"
    }
   },
   "cell_type": "code",
   "source": [
    "from sklearn.cluster import KMeans\n",
    "K = [2, 5, 10, 15, 20, 25, 30,  36]\n",
    "\n",
    "for k in K :\n",
    "    \n",
    "    kmeans = KMeans(n_clusters=k, random_state=0, n_init=15, max_iter=1000)\n",
    "    kmeans.fit(features)\n",
    "\n",
    "    fitness = 0\n",
    "    for key, value in dataset_dict.items():\n",
    "        \n",
    "        predictions = np.array(kmeans.predict(value))\n",
    "        # Find frequency of each value\n",
    "        values, counts = np.unique(predictions, return_counts=True)\n",
    "\n",
    "        # Display value with highest frequency\n",
    "        most_frequent_value = values[counts.argmax()]\n",
    "        \n",
    "        perecntage = list(predictions).count(most_frequent_value)/len(value)\n",
    "        fitness += perecntage\n",
    "        \n",
    "        # If you want to see the progess, uncomment the line bellow\n",
    "        # print(predictions, '--', most_frequent_value, '--', perecntage)\n",
    "    \n",
    "    print(f'K = {k}, fitness = {fitness}')\n"
   ],
   "id": "a5d5d73b38f2d4b",
   "outputs": [
    {
     "name": "stdout",
     "output_type": "stream",
     "text": [
      "K = 2, fitness = 30.0\n",
      "K = 5, fitness = 28.687878787878788\n",
      "K = 10, fitness = 24.41272893772894\n",
      "K = 15, fitness = 22.23499000999001\n",
      "K = 20, fitness = 20.801551226551226\n",
      "K = 25, fitness = 18.87678016428016\n",
      "K = 30, fitness = 19.142501942501937\n",
      "K = 36, fitness = 17.291744366744364\n"
     ]
    }
   ],
   "execution_count": 18
  }
 ],
 "metadata": {
  "kernelspec": {
   "display_name": "Python 3",
   "language": "python",
   "name": "python3"
  },
  "language_info": {
   "codemirror_mode": {
    "name": "ipython",
    "version": 2
   },
   "file_extension": ".py",
   "mimetype": "text/x-python",
   "name": "python",
   "nbconvert_exporter": "python",
   "pygments_lexer": "ipython2",
   "version": "2.7.6"
  }
 },
 "nbformat": 4,
 "nbformat_minor": 5
}
